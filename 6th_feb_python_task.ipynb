{
 "cells": [
  {
   "cell_type": "markdown",
   "id": "8130f958-c55b-4c0c-93ec-358c94661d80",
   "metadata": {},
   "source": [
    "Q1. Create a function which will take a list as an argument and return the product of all the numbers\n",
    "after creating a flat list.\n",
    "Use the below-given list as an argument for your function.\n",
    "<br>list1 = [1,2,3,4, [44,55,66, True], False, (34,56,78,89,34), {1,2,3,3,2,1}, {1:34, \"key2\": [55, 67, 78, 89], 4: (45,\n",
    "22, 61, 34)}, [56, 'data science'], 'Machine Learning']"
   ]
  },
  {
   "cell_type": "code",
   "execution_count": 1,
   "id": "27b3141d-25d4-4803-a163-9cd415c14a75",
   "metadata": {},
   "outputs": [],
   "source": [
    "list1 = [1,2,3,4, [44,55,66, True], False, (34,56,78,89,34), {1,2,3,3,2,1}, {1:34, \"key2\": [55, 67, 78, 89], 4: (45, 22, 61, 34)}, [56, 'data science'], 'Machine Learning']"
   ]
  },
  {
   "cell_type": "code",
   "execution_count": 19,
   "id": "227ddd08-8f21-4b38-b948-5d758c0ef4bc",
   "metadata": {},
   "outputs": [
    {
     "name": "stdout",
     "output_type": "stream",
     "text": [
      "[1, 'key2', 4, 34, [55, 67, 78, 89], (45, 22, 61, 34)]\n",
      "[1, 2, 3, 4, [44, 55, 66, True], False, (34, 56, 78, 89, 34), {1, 2, 3}, [56, 'data science'], 1, 'key2', 4, 34, [55, 67, 78, 89], (45, 22, 61, 34)]\n",
      "[1, 2, 3, 4, 44, 55, 66, True, False, 34, 56, 78, 89, 34, 1, 2, 3, 56, 'data science', 1, 'key2', 4, 34, 55, 67, 78, 89, 45, 22, 61, 34]\n"
     ]
    }
   ],
   "source": [
    "def f(a):\n",
    "    n=[]\n",
    "    for i in a:\n",
    "        if isinstance(i,int) or isinstance(i,list) or isinstance(i,tuple) or isinstance(i,set):\n",
    "            n.append(i)\n",
    "                \n",
    "    return n  \n",
    "p1=f(list1)\n",
    "def f1(a):\n",
    "    l=[]\n",
    "    for i in a:\n",
    "        if type(i)==dict:\n",
    "            l.append(i)\n",
    "    return l  \n",
    "p2=f1(list1)\n",
    "p3=p2.pop()  ## remove the outer list and now it's just dict\n",
    "d1=list(p3.keys())  ##after making it dict we can exract keys and values from dict \n",
    "d2=list(p3.values())\n",
    "l1=d1+d2\n",
    "raw_list=p1+l1\n",
    "raw_list   \n",
    "\n",
    "def flatten(lst):  ## remove inside all list,tuples and set and make whole list of all this \n",
    "    result = []\n",
    "    for i in lst:\n",
    "        if isinstance(i, (list, tuple,set)):\n",
    "            result.extend(flatten(i))\n",
    "        \n",
    "        else:\n",
    "            result.append(i)\n",
    "            \n",
    "    return result\n",
    "\n",
    "flat_list = flatten(raw_list)\n",
    "print(l1)    ## This is a list of keys and values of dict \n",
    "print(raw_list) ## this is a simplification of original list \n",
    "print(flat_list) ### this is a list which formed by removing all this types of tuples,list,set,dict "
   ]
  },
  {
   "cell_type": "code",
   "execution_count": 20,
   "id": "cb7728e9-4e9b-420e-a3c9-aa3aab4ec88c",
   "metadata": {},
   "outputs": [
    {
     "name": "stdout",
     "output_type": "stream",
     "text": [
      "[1, 2, 3, 4, 44, 55, 66, 34, 56, 78, 89, 34, 1, 2, 3, 56, 1, 4, 34, 55, 67, 78, 89, 45, 22, 61, 34]\n"
     ]
    }
   ],
   "source": [
    "final_list=[x for x in flat_list if not isinstance(x, (str, bool))]\n",
    "print(final_list) ### removing the str and bool in our list "
   ]
  },
  {
   "cell_type": "code",
   "execution_count": 4,
   "id": "02b05375-deaf-4d45-80ea-9652ce9c9ae2",
   "metadata": {},
   "outputs": [],
   "source": [
    "from functools import reduce"
   ]
  },
  {
   "cell_type": "code",
   "execution_count": 22,
   "id": "f2613b7b-bcaa-46e2-af40-1a3f1452145a",
   "metadata": {},
   "outputs": [
    {
     "data": {
      "text/plain": [
       "4134711838987085478833841242112000"
      ]
     },
     "execution_count": 22,
     "metadata": {},
     "output_type": "execute_result"
    }
   ],
   "source": [
    "reduce(lambda x,y:x*y,final_list)"
   ]
  },
  {
   "cell_type": "code",
   "execution_count": 6,
   "id": "6c9bcb3d-380a-469c-a122-584783d88fc2",
   "metadata": {},
   "outputs": [],
   "source": [
    "##this is the product of only integers of given list "
   ]
  },
  {
   "cell_type": "code",
   "execution_count": null,
   "id": "3a1f349c-67b9-4b9e-9283-98cc6913bd08",
   "metadata": {},
   "outputs": [],
   "source": []
  },
  {
   "cell_type": "markdown",
   "id": "1d1fb4da-5dba-474a-a464-674a2369c318",
   "metadata": {},
   "source": [
    "###Q2. Write a python program for encrypting a message sent to you by your friend. The logic of encryption\n",
    "should be such that, for \"a\" the output should be \"z\". For \"b\", the output should be \"y\". For \"c\", the output should\n",
    "be \"x\" respectively. Also, the whitespace should be replaced with a dollar sign. Keep the punctuation\n",
    "marks unchanged.\n",
    "<br>___Input Sentence: I want to become a Data Scientist.___\n",
    "<br>Encrypt the above input sentence using the program you just created."
   ]
  },
  {
   "cell_type": "code",
   "execution_count": 52,
   "id": "f97cb451-0f2f-4dac-a515-2837de0384d8",
   "metadata": {},
   "outputs": [
    {
     "name": "stdout",
     "output_type": "stream",
     "text": [
      "i$wznt$to$yexome$z$dztz$sxientist.\n"
     ]
    }
   ],
   "source": [
    "Str=\"I want to become a Data Scientist.\"\n",
    "str1=Str.replace(\"a\",\"z\")\n",
    "str2=str1.replace(\"b\",\"y\")\n",
    "str3=str2.replace(\"c\",\"x\")\n",
    "str4=str3.lower()\n",
    "print(\"$\".join(str4.split()))\n",
    "    \n",
    "    "
   ]
  }
 ],
 "metadata": {
  "kernelspec": {
   "display_name": "Python 3 (ipykernel)",
   "language": "python",
   "name": "python3"
  },
  "language_info": {
   "codemirror_mode": {
    "name": "ipython",
    "version": 3
   },
   "file_extension": ".py",
   "mimetype": "text/x-python",
   "name": "python",
   "nbconvert_exporter": "python",
   "pygments_lexer": "ipython3",
   "version": "3.10.8"
  }
 },
 "nbformat": 4,
 "nbformat_minor": 5
}
